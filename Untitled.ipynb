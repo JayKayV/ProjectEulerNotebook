{
 "cells": [
  {
   "cell_type": "code",
   "execution_count": 14,
   "id": "ca9e0c88-9fff-48c6-9ae1-cb1cf8bcad80",
   "metadata": {},
   "outputs": [
    {
     "name": "stdout",
     "output_type": "stream",
     "text": [
      "True\n",
      "128088830547982\n"
     ]
    }
   ],
   "source": [
    "#project euler719\n",
    "def check(s, x):\n",
    "    if not s or x < 0:\n",
    "        return False\n",
    "    \n",
    "    if int(s) == x:\n",
    "        return True\n",
    "    \n",
    "    for i in range(1, len(s)):\n",
    "        if check(s[i:], x-int(s[:i])):\n",
    "            return True\n",
    "    return False\n",
    "\n",
    "print(check('9801', 99))\n",
    "    \n",
    "M = 10 ** 5\n",
    "_M = 10 ** 6\n",
    "a = 0\n",
    "for o in range(1, _M+1):\n",
    "    v = o * o\n",
    "    if v % 9 <= 1:\n",
    "        if check(str(v), o):\n",
    "            a += v\n",
    "print(a - 1)"
   ]
  },
  {
   "cell_type": "code",
   "execution_count": 75,
   "id": "61ee6b11-035b-4287-b277-208bf8233e8c",
   "metadata": {},
   "outputs": [
    {
     "name": "stdout",
     "output_type": "stream",
     "text": [
      "295\n"
     ]
    }
   ],
   "source": [
    "#project euler290\n",
    "def findNdigitNums(n, target, result=''):\n",
    "    if n == 0 and target == 0:\n",
    "        return [result]\n",
    "    if n > 0 and target >= 0:\n",
    " \n",
    "        d = ord('0')\n",
    "        if result == '':        # special case: number cannot start from 0\n",
    "            d = ord('1')\n",
    " \n",
    "        # consider every valid digit and put it in the current index,\n",
    "        # and recur for the next index\n",
    "        ans = []\n",
    "        while d <= ord('9'):\n",
    "            ans += findNdigitNums(n - 1, target - (d - ord('0')), result + chr(d))\n",
    "            d = d + 1\n",
    " \n",
    "        return ans\n",
    "    return []\n",
    "\n",
    "def sd(n):\n",
    "    return sum([int(o) for o in str(n)])\n",
    "\n",
    "def isprime(x):\n",
    "    i = 3\n",
    "    while i * i <= x:\n",
    "        if x % i == 0:\n",
    "            return False\n",
    "        i += 2\n",
    "    return True\n",
    "\n",
    "k=\"\"\"for v in range(3, 150, 2):\n",
    "    if not isprime(v):\n",
    "        continue\n",
    "    a = []\n",
    "    for i in range(0, 10 ** 3 + 1, 9):\n",
    "        if sd(i) == sd(v * i):\n",
    "            a.append(i)\n",
    "    if v == 137:\n",
    "        print(len(a))\n",
    "    print(v, a)\n",
    "\"\"\"\n",
    "k = \"\"\"v = 0\n",
    "c = 0\n",
    "for i in range(4, 8):\n",
    "    k = findNdigitNums(i, 18)\n",
    "    u = 0\n",
    "    for _ in k:\n",
    "        o = int(_)\n",
    "        if sd(o) == sd(137 * o):\n",
    "            u += 1\n",
    "    print('#', len(k), u)\n",
    "    v += len(k)\n",
    "    c += u\n",
    "print(v, c)\"\"\"\n",
    "\n",
    "k = findNdigitNums(5, 36)\n",
    "k = [o for o in k if sd(int(o)) == sd(int(o) * 137)]\n",
    "print(len(k))"
   ]
  },
  {
   "cell_type": "code",
   "execution_count": 38,
   "id": "48a53b2b-8751-4fab-b468-1f3ba2c5b4e6",
   "metadata": {},
   "outputs": [
    {
     "name": "stdout",
     "output_type": "stream",
     "text": [
      "[2, 3, 3, 11]\n",
      "27955\n"
     ]
    }
   ],
   "source": [
    "def sd(n):\n",
    "    return sum([int(o) for o in str(n)])\n",
    "\n",
    "def factor(n):\n",
    "    i = 2\n",
    "    w = []\n",
    "    while n != 1:\n",
    "        while n % i == 0:\n",
    "            w.append(i)\n",
    "            n //= i\n",
    "        i += 1\n",
    "    return w\n",
    "\n",
    "print(factor(198))\n",
    "k = '1' * 7\n",
    "for j in range(8):\n",
    "    u = k[:j] + '2' + k[j:]\n",
    "    v = int(u)\n",
    "    if sd(v) == sd(137 * v):\n",
    "        print(u)\n",
    "    \n",
    "if sd(k) == sd(137 * k):\n",
    "    print('YES!')\n",
    "a = []\n",
    "M = 10 ** 6\n",
    "for i in range(0, M + 1, 9):\n",
    "    if sd(i) == sd(137 * i):\n",
    "        a.append(i)\n",
    "    #else:\n",
    "        #print(i, sd(i), sd(137 * i))\n",
    "        \n",
    "print(len(a))"
   ]
  },
  {
   "cell_type": "code",
   "execution_count": null,
   "id": "39b5f7d8-28a8-413c-9e28-09453fd05818",
   "metadata": {},
   "outputs": [],
   "source": []
  }
 ],
 "metadata": {
  "kernelspec": {
   "display_name": "Python 3 (ipykernel)",
   "language": "python",
   "name": "python3"
  },
  "language_info": {
   "codemirror_mode": {
    "name": "ipython",
    "version": 3
   },
   "file_extension": ".py",
   "mimetype": "text/x-python",
   "name": "python",
   "nbconvert_exporter": "python",
   "pygments_lexer": "ipython3",
   "version": "3.9.7"
  }
 },
 "nbformat": 4,
 "nbformat_minor": 5
}
