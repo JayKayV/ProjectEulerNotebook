{
 "cells": [
  {
   "cell_type": "code",
   "execution_count": 21,
   "id": "02cbbbb9-ec25-47eb-ae16-1a51892cddf9",
   "metadata": {},
   "outputs": [
    {
     "name": "stdout",
     "output_type": "stream",
     "text": [
      "644 9699690\n",
      "892371480\n"
     ]
    }
   ],
   "source": [
    "#project euler243\n",
    "from math import sqrt, lcm\n",
    "def isprime(x):\n",
    "    i = 3\n",
    "    while i * i <= x:\n",
    "        if x % i == 0:\n",
    "            return False\n",
    "        i += 2\n",
    "    return True\n",
    "\n",
    "def phi(n):\n",
    "    v = n\n",
    "    if n % 2 == 0:\n",
    "        v //= 2\n",
    "    for i in range(3, int(sqrt(n)) + 1, 2):\n",
    "        if n % i == 0 and isprime(i):\n",
    "            v = (v * (i - 1)) // i\n",
    "            #print('#', n, v, i)\n",
    "    return v\n",
    "\n",
    "m = 15499 / 94744\n",
    "p, k = 2, 3\n",
    "u = [2, 3]\n",
    "while phi(p) / (p - 1) >= m:\n",
    "    p = lcm(p, k)\n",
    "    k += 2\n",
    "    while not isprime(k):\n",
    "        k += 2\n",
    "    u.append(k)\n",
    "    \n",
    "w = 1\n",
    "for i in range(8):\n",
    "    w *= u[i]\n",
    "    \n",
    "a, b = p // 29, p\n",
    "print((b - a) // w, w)\n",
    "for c in range(a, b+1, w):\n",
    "    if phi(c) / (c-1) < m:\n",
    "        print(c)\n",
    "        break"
   ]
  },
  {
   "cell_type": "code",
   "execution_count": null,
   "id": "3fedafbf-cb50-444a-927e-6b65e09ad9c7",
   "metadata": {},
   "outputs": [],
   "source": []
  }
 ],
 "metadata": {
  "kernelspec": {
   "display_name": "Python 3 (ipykernel)",
   "language": "python",
   "name": "python3"
  },
  "language_info": {
   "codemirror_mode": {
    "name": "ipython",
    "version": 3
   },
   "file_extension": ".py",
   "mimetype": "text/x-python",
   "name": "python",
   "nbconvert_exporter": "python",
   "pygments_lexer": "ipython3",
   "version": "3.9.7"
  }
 },
 "nbformat": 4,
 "nbformat_minor": 5
}
