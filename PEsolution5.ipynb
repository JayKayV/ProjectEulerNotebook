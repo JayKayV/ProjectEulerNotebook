{
 "cells": [
  {
   "cell_type": "code",
   "execution_count": 21,
   "id": "02cbbbb9-ec25-47eb-ae16-1a51892cddf9",
   "metadata": {},
   "outputs": [
    {
     "name": "stdout",
     "output_type": "stream",
     "text": [
      "644 9699690\n",
      "892371480\n"
     ]
    }
   ],
   "source": [
    "#project euler243\n",
    "from math import sqrt, lcm\n",
    "def isprime(x):\n",
    "    i = 3\n",
    "    while i * i <= x:\n",
    "        if x % i == 0:\n",
    "            return False\n",
    "        i += 2\n",
    "    return True\n",
    "\n",
    "def phi(n):\n",
    "    v = n\n",
    "    if n % 2 == 0:\n",
    "        v //= 2\n",
    "    for i in range(3, int(sqrt(n)) + 1, 2):\n",
    "        if n % i == 0 and isprime(i):\n",
    "            v = (v * (i - 1)) // i\n",
    "            #print('#', n, v, i)\n",
    "    return v\n",
    "\n",
    "m = 15499 / 94744\n",
    "p, k = 2, 3\n",
    "u = [2, 3]\n",
    "while phi(p) / (p - 1) >= m:\n",
    "    p = lcm(p, k)\n",
    "    k += 2\n",
    "    while not isprime(k):\n",
    "        k += 2\n",
    "    u.append(k)\n",
    "    \n",
    "w = 1\n",
    "for i in range(8):\n",
    "    w *= u[i]\n",
    "    \n",
    "a, b = p // 29, p\n",
    "print((b - a) // w, w)\n",
    "for c in range(a, b+1, w):\n",
    "    if phi(c) / (c-1) < m:\n",
    "        print(c)\n",
    "        break"
   ]
  },
  {
   "cell_type": "code",
   "execution_count": 12,
   "id": "3fedafbf-cb50-444a-927e-6b65e09ad9c7",
   "metadata": {},
   "outputs": [
    {
     "name": "stdout",
     "output_type": "stream",
     "text": [
      "138901917\n"
     ]
    }
   ],
   "source": [
    "#project euler206\n",
    "from math import sqrt\n",
    "from itertools import product\n",
    "\n",
    "def issqr(x):\n",
    "    u = int(sqrt(x))\n",
    "    return x == u * u\n",
    "\n",
    "a = [i for i in range(10)]\n",
    "w = list(product(a, repeat = 7))\n",
    "ans = -1\n",
    "g = []\n",
    "for o in w:\n",
    "    s = ''\n",
    "    for j in range(7):\n",
    "        s += str((j + 1) * 10 + o[j])\n",
    "\n",
    "    for k in [0, 4, 8]:\n",
    "        h = int(s + ('8' + str(k) + '9'))\n",
    "        if len(g) < 1:\n",
    "            g.append(h)\n",
    "        if issqr(h):\n",
    "            ans = int(sqrt(h))\n",
    "            break\n",
    "    if ans > 0:\n",
    "        break\n",
    "print(ans)\n",
    "#print(g[:500])"
   ]
  },
  {
   "cell_type": "code",
   "execution_count": 6,
   "id": "16486e68",
   "metadata": {},
   "outputs": [
    {
     "name": "stdout",
     "output_type": "stream",
     "text": [
      "0.5731440767829801\n"
     ]
    }
   ],
   "source": [
    "#project euler205\n",
    "from functools import lru_cache\n",
    "\n",
    "@lru_cache(maxsize = 256)\n",
    "def p(n, m, v, s):\n",
    "    if m == 0:\n",
    "        return 1 if s == 0 else 0\n",
    "    if m == 1:\n",
    "        return 1 if v == s else 0\n",
    "\n",
    "    w = 0\n",
    "    for j in range(1, n+1):\n",
    "        w += p(n, m - 1, j, s - v)\n",
    "    return w\n",
    "\n",
    "#print(p(3, 3, 1, 4))\n",
    "def solve(dicea, maxa, diceb, maxb):\n",
    "    a = []\n",
    "    b = []\n",
    "    mgmin = min(dicea, diceb)\n",
    "    maxv = max(dicea * maxa, diceb * maxb)\n",
    "    for v in range(mgmin, maxv + 1):\n",
    "        if v >= dicea:\n",
    "            av = 0\n",
    "            for j in range(1, maxa+1):\n",
    "                av += p(maxa, dicea, j, v)\n",
    "            a.append(av)\n",
    "        if v >= diceb:\n",
    "            bv = 0\n",
    "            for j in range(1, maxb+1):\n",
    "                bv += p(maxb, diceb, j, v)\n",
    "            b.append(bv)\n",
    "\n",
    "    minsa = dicea\n",
    "    maxsa = dicea * maxa\n",
    "    minsb = diceb\n",
    "    sa = sum(a)\n",
    "    sb = sum(b)\n",
    "    ##print(b)\n",
    "    #print(p(6, 6, 6), p(1, 5, 5), p(2, 5, 4), p(3, 5, 3), p(4, 5, 2), p(5, 5, 1))\n",
    "    m = sa * sb\n",
    "    doonce = False\n",
    "    h = 0\n",
    "    wins1 = 0\n",
    "    wins2 = 0\n",
    "    for s1 in range(minsa, maxsa+1):\n",
    "        v = a[s1 - minsa]\n",
    "        if s1 <= minsb:\n",
    "            continue\n",
    "\n",
    "        k = s1 - minsb - 1\n",
    "        if not doonce:\n",
    "            for j in range(k):\n",
    "                h += b[j]\n",
    "            doonce = True\n",
    "        #print(s1 - minsa, s1 - minsb - 1)\n",
    "        h += b[s1 - minsb - 1]\n",
    "        wins1 += (v * h)\n",
    "        wins2 += (h / sb) * (v / sa)\n",
    "    print(wins1 / m)\n",
    "    #print(wins2)\n",
    "\n",
    "solve(9, 4, 6, 6)"
   ]
  },
  {
   "cell_type": "code",
   "execution_count": 6,
   "id": "e8b67393",
   "metadata": {},
   "outputs": [
    {
     "name": "stdout",
     "output_type": "stream",
     "text": [
      "34029210557338\n"
     ]
    }
   ],
   "source": [
    "#project euler203\n",
    "a = [1, 2, 1]\n",
    "p = set([1])\n",
    "h = 3\n",
    "\n",
    "def issqfree(n):\n",
    "    i = 2\n",
    "    while i * i <= n:\n",
    "        if n % i == 0:\n",
    "            if n % (i * i) == 0:\n",
    "                return False\n",
    "        i += 1\n",
    "    return True\n",
    "\n",
    "while h <= 51:\n",
    "    for i in range(1, h // 2 + h % 2):\n",
    "        p.add(a[i])\n",
    "    \n",
    "    h += 1\n",
    "    b = [1]\n",
    "    for i in range(len(a) - 1):\n",
    "        b.append(a[i] + a[i+1])\n",
    "    b.append(1)\n",
    "    a = b\n",
    "    #print(p, b, h)\n",
    "\n",
    "s = 0\n",
    "for o in p:\n",
    "    if issqfree(o):\n",
    "        s += o\n",
    "print(s)"
   ]
  },
  {
   "cell_type": "code",
   "execution_count": 14,
   "id": "939424fd",
   "metadata": {},
   "outputs": [
    {
     "name": "stdout",
     "output_type": "stream",
     "text": [
      "1677366278943\n"
     ]
    }
   ],
   "source": [
    "#project euler214\n",
    "from math import sqrt\n",
    "\n",
    "def SoE(num):\n",
    "    prime = [1 for i in range(num+1)]\n",
    "    p = 2\n",
    "    while (p * p <= num):\n",
    " \n",
    "        # If prime[p] is not\n",
    "        # changed, then it is a prime\n",
    "        if (prime[p] == 1):\n",
    " \n",
    "            # Updating all multiples of p\n",
    "            for i in range(p * p, num+1, p):\n",
    "                prime[i] = p\n",
    "        p += 1\n",
    " \n",
    "    return prime\n",
    "    \n",
    "L = 4 * 10 ** 7\n",
    "def f(m, l):\n",
    "    phi = [0, 1, 1]\n",
    "    tochain = [0, 1, 2]  \n",
    "    d = SoE(m)\n",
    "    total = 0\n",
    "    for j in range(3, m):\n",
    "        h, u = j, d[j]\n",
    "        if u == 1:\n",
    "            phi.append(j - 1)\n",
    "            tochain.append(tochain[-1] + 1)\n",
    "        else:\n",
    "            c = 0\n",
    "            while h % u == 0:\n",
    "                h //= u\n",
    "                c += 1\n",
    "            phi.append(phi[h] * (u ** (c - 1)) * (u - 1))\n",
    "            tochain.append(tochain[phi[-1]] + 1)\n",
    "        if tochain[-1] == l and u == 1: \n",
    "            total += j\n",
    "    return total \n",
    "\n",
    "print(f(L, 25))"
   ]
  },
  {
   "cell_type": "code",
   "execution_count": 9,
   "id": "7dfca26d",
   "metadata": {},
   "outputs": [
    {
     "name": "stdout",
     "output_type": "stream",
     "text": [
      "-0.9510565162951535311819384333\n",
      "(Decimal('-1'), Decimal('0')) (Decimal('-0.6909830056250525487371305644'), Decimal('0.9510565162951535311819384333')) (Decimal('-0.381966011250105097474261129'), Decimal('1.902113032590307062363876867'))\n",
      "(Decimal('-1'), Decimal('0')) (Decimal('-1.809016994374947329454086639'), Decimal('0.5877852522924731555322787032')) (Decimal('-2.618033988749894658908173278'), Decimal('1.175570504584946311064557406'))\n",
      "(Decimal('-1'), Decimal('0')) (Decimal('-1.809016994374947417840308328'), Decimal('-0.5877852522924729819248272190')) (Decimal('-2.618033988749894835680616656'), Decimal('-1.175570504584945963849654438'))\n",
      "(Decimal('-1'), Decimal('0')) (Decimal('-0.6909830056250527600339606429'), Decimal('-0.9510565162951535035079559054')) (Decimal('-0.381966011250105520067921286'), Decimal('-1.902113032590307007015911811'))\n",
      "(Decimal('-1'), Decimal('0')) (Decimal('-1.526897212780E-16'), Decimal('-1.924034962155E-16')) (Decimal('0.9999999999999996946205574440'), Decimal('-3.848069924310E-16'))\n"
     ]
    }
   ],
   "source": [
    "#project euler208\n",
    "from math import sin, cos, pi\n",
    "from decimal import Decimal as dc\n",
    "s72, c72 = dc(sin(2 * pi / 5)), dc(cos(2 * pi / 5))\n",
    "ns72 = -s72\n",
    "def calc(cl, o, cr, d):\n",
    "    if d == 0:\n",
    "        o0 = cl[0] + (o[0] - cl[0]) * c72 - (o[1] - cl[1]) * s72\n",
    "        o1 = cl[1] + (o[0] - cl[0]) * s72 + (o[1] - cl[1]) * c72\n",
    "        o = (o0, o1)\n",
    "        cr = (2 * o[0] - cl[0], 2 * o[1] - cl[1])\n",
    "    else:\n",
    "        o0 = cr[0] + (o[0] - cr[0]) * c72 - (o[1] - cr[1]) * ns72\n",
    "        o1 = cr[1] + (o[0] - cr[0]) * ns72 + (o[1] - cr[1]) * c72\n",
    "        o = (o0, o1)\n",
    "        cl = (2 * o[0] - cr[0], 2 * o[1] - cr[1])\n",
    "    return cl, o, cr\n",
    "\n",
    "print(ns72)\n",
    "cl = (dc(-1), dc(0))\n",
    "o = (dc(0), dc(0))\n",
    "cr = (dc(1), dc(0))\n",
    "\n",
    "for j in range(5):\n",
    "    cl, o, cr = calc(cl, o, cr, 0)\n",
    "    print(cl, o, cr)"
   ]
  }
 ],
 "metadata": {
  "kernelspec": {
   "display_name": "Python 3.10.5 64-bit",
   "language": "python",
   "name": "python3"
  },
  "language_info": {
   "codemirror_mode": {
    "name": "ipython",
    "version": 3
   },
   "file_extension": ".py",
   "mimetype": "text/x-python",
   "name": "python",
   "nbconvert_exporter": "python",
   "pygments_lexer": "ipython3",
   "version": "3.10.5"
  },
  "vscode": {
   "interpreter": {
    "hash": "a42ccb73e7d9bfdf27e036f1d2b8b681e55fc0743cc5586bc2474d4a60f4b886"
   }
  }
 },
 "nbformat": 4,
 "nbformat_minor": 5
}
