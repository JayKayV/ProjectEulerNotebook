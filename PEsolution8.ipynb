{
 "cells": [
  {
   "cell_type": "code",
   "execution_count": 8,
   "metadata": {},
   "outputs": [
    {
     "name": "stdout",
     "output_type": "stream",
     "text": [
      "[6, 10, 22, 30, 42, 58, 70, 78, 82, 102, 130, 138, 190, 210, 222, 310, 330, 358, 382, 418, 442, 462, 478, 498, 562, 618, 658, 690, 742, 838, 858, 862, 910, 970]\n",
      "34\n"
     ]
    }
   ],
   "source": [
    "#project euler357\n",
    "L = 10**3\n",
    "\n",
    "def extract(n):\n",
    "    k = n - 1\n",
    "    s = 0\n",
    "    while k % 2 == 0:\n",
    "        k //= 2\n",
    "        s += 1\n",
    "    return s, k\n",
    "\n",
    "def MillerTest(n):\n",
    "    s, d = extract(n)\n",
    "    h = int(log(n) * log(n) * 2)\n",
    "\n",
    "    for a in [2, 3, 5, 7, 11, 13, 17, 19, 23]:\n",
    "        x = pow(a, d, n)\n",
    "        if x == 1 or x == n - 1:\n",
    "            continue\n",
    "\n",
    "        cancontinue = False\n",
    "        for r in range(s - 1):\n",
    "            x = (x * x) % n\n",
    "            if x == n - 1:\n",
    "                cancontinue = True\n",
    "                break\n",
    "        if cancontinue:\n",
    "            continue\n",
    "        return False\n",
    "    return True\n",
    "\n",
    "def isprime(n):\n",
    "    return MillerTest(n)\n",
    "\n",
    "#primes = [o for o in primes if ]\n",
    "#c = (10 ** 8) // 6\n",
    "#a, b = [o for o in primes if o <= c], [o for o in primes if o > c and o % 3 != 1]\n",
    "#print(len(a), len(b))\n",
    "def prod(a):\n",
    "    s = 1\n",
    "    for o in a:\n",
    "        s *= o\n",
    "    return s\n",
    "\n",
    "def test(v, ar, p):\n",
    "    if not isprime(v + 1):\n",
    "        return False\n",
    "    for j in range(len(ar) - 1):\n",
    "\n",
    "def gen(p, v, ar, li, c = 0):\n",
    "    if c == 4:\n",
    "        return 1 if test(v, ar, p) else 0\n",
    "    if c >= 5:\n",
    "        return 0\n",
    "\n",
    "    p += 2\n",
    "    t = 0\n",
    "    while c <= 3 and p * v <= li:\n",
    "        while not isprime(p):\n",
    "            p += 2\n",
    "        if p * v > li:\n",
    "            break\n",
    "        if test(v, ar, p):\n",
    "            t += 1\n",
    "        t += gen(p, v * p, ar.copy() + [p], li, c + 1)\n",
    "        p += 2\n",
    "    return t\n",
    "\n",
    "a = gen(3, 2, [3], 10)\n",
    "print(sorted(a))\n",
    "print(len(a))"
   ]
  }
 ],
 "metadata": {
  "kernelspec": {
   "display_name": "Python 3.10.5 64-bit",
   "language": "python",
   "name": "python3"
  },
  "language_info": {
   "codemirror_mode": {
    "name": "ipython",
    "version": 3
   },
   "file_extension": ".py",
   "mimetype": "text/x-python",
   "name": "python",
   "nbconvert_exporter": "python",
   "pygments_lexer": "ipython3",
   "version": "3.10.5"
  },
  "orig_nbformat": 4,
  "vscode": {
   "interpreter": {
    "hash": "a42ccb73e7d9bfdf27e036f1d2b8b681e55fc0743cc5586bc2474d4a60f4b886"
   }
  }
 },
 "nbformat": 4,
 "nbformat_minor": 2
}
