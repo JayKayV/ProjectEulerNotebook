{
 "cells": [
  {
   "cell_type": "code",
   "execution_count": 1,
   "id": "3e0a5667-7e87-44e1-ab11-240d4e9cba6e",
   "metadata": {},
   "outputs": [
    {
     "name": "stdout",
     "output_type": "stream",
     "text": [
      "55\n"
     ]
    }
   ],
   "source": [
    "#project euler35\n",
    "def SieveOfEratosthenes(num):\n",
    "    prime = [True for i in range(num+1)]\n",
    "# boolean array\n",
    "    p = 2\n",
    "    while (p * p <= num):\n",
    " \n",
    "        # If prime[p] is not\n",
    "        # changed, then it is a prime\n",
    "        if (prime[p] == True):\n",
    " \n",
    "            # Updating all multiples of p\n",
    "            for i in range(p * p, num+1, p):\n",
    "                prime[i] = False\n",
    "        p += 1\n",
    " \n",
    "    return prime, [p for p in range(2, len(prime)) if prime[p]]\n",
    "\n",
    "m = 10 ** 6\n",
    "isprime, primes = SieveOfEratosthenes(m)\n",
    "\n",
    "def rot(s, i):\n",
    "    return s[i:] + s[:i]\n",
    "\n",
    "def check(p):\n",
    "    m = str(p)\n",
    "    for i in range(1, len(m)):\n",
    "        if not isprime[int(rot(m, i))]:\n",
    "            return False\n",
    "    return True\n",
    "\n",
    "print(len([u for u in primes if check(u)]))\n"
   ]
  },
  {
   "cell_type": "code",
   "execution_count": 29,
   "id": "0c57fc04-d780-4a97-9f84-66044b4ec026",
   "metadata": {},
   "outputs": [
    {
     "name": "stdout",
     "output_type": "stream",
     "text": [
      "21124\n"
     ]
    }
   ],
   "source": [
    "#project euler17\n",
    "s = [0, 3, 3, 5, 4, 4, 3, 5, 5, 4]\n",
    "s1 = [3, 6, 6, 8, 8, 7, 7, 9, 8, 8]\n",
    "sf = [6, 6, 5, 5, 5, 7, 6, 6]\n",
    "\n",
    "def speak_two(a):\n",
    "    u, v = int(a[0]), int(a[1])\n",
    "    if u == 0:\n",
    "        return s[v]\n",
    "    elif u == 1:\n",
    "        return s1[v]\n",
    "    return sf[u-2] + s[v]\n",
    "\n",
    "def speak(u):\n",
    "    a = str(u)\n",
    "    if len(a) < 2:\n",
    "        return s[u]\n",
    "    elif len(a) == 2:\n",
    "        return speak_two(a)\n",
    "    \n",
    "    f = s[int(a[0])]\n",
    "    if speak_two(a[1:]) == 0:\n",
    "        return f + 7\n",
    "    return f + 10 + speak_two(a[1:])\n",
    "\n",
    "r = 0\n",
    "for i in range(1, 1000):\n",
    "    r += speak(i)\n",
    "           \n",
    "print(r + 11)"
   ]
  },
  {
   "cell_type": "code",
   "execution_count": 32,
   "id": "33cf42c2-e345-40e3-8195-722b770066a4",
   "metadata": {},
   "outputs": [
    {
     "name": "stdout",
     "output_type": "stream",
     "text": [
      "5777\n"
     ]
    }
   ],
   "source": [
    "#project euler46\n",
    "def isprime(x):\n",
    "    i = 3\n",
    "    while i * i <= x:\n",
    "        if x % i == 0:\n",
    "            return False\n",
    "        i += 2\n",
    "    return True\n",
    "\n",
    "def issqr(x):\n",
    "    u = int(x ** (1/2))\n",
    "    return x == u * u\n",
    "\n",
    "def check(x):\n",
    "    for p in range(3, x, 2):\n",
    "        if isprime(p) and issqr((x - p) // 2):\n",
    "            return True\n",
    "    return False or isprime(x)\n",
    "\n",
    "k = 33\n",
    "while check(k):\n",
    "    k += 2\n",
    "        \n",
    "print(k)"
   ]
  },
  {
   "cell_type": "code",
   "execution_count": 59,
   "id": "1b0efa80-190c-4d37-bafa-7ed8193f5efe",
   "metadata": {},
   "outputs": [
    {
     "name": "stdout",
     "output_type": "stream",
     "text": [
      "False\n",
      "4179871\n"
     ]
    }
   ],
   "source": [
    "#project euler23\n",
    "import math\n",
    "def divSum(num):\n",
    "    result = 0    \n",
    "    i = 2\n",
    "    while i <= int((math.sqrt(num))):\n",
    "        if (num % i == 0) :\n",
    "            if (i == (num // i)):\n",
    "                result += i\n",
    "            else:\n",
    "                result +=  (i + num//i)\n",
    "        i = i + 1\n",
    "    return result + 1\n",
    "\n",
    "m = 28124\n",
    "a = [divSum(u) > u for u in range(m)]\n",
    "print(a[28])\n",
    "    \n",
    "def check(x):\n",
    "    for u in range(12, x // 2 + 1):\n",
    "        if a[u] and a[x - u]:\n",
    "            return True\n",
    "    return False\n",
    "\n",
    "s = 0\n",
    "for i in range(1, m):\n",
    "    if not check(i):\n",
    "        s += i\n",
    "print(s)"
   ]
  },
  {
   "cell_type": "code",
   "execution_count": 75,
   "id": "ef4b8090-74d4-4395-b8c7-20e573918608",
   "metadata": {},
   "outputs": [
    {
     "name": "stdout",
     "output_type": "stream",
     "text": [
      "134043\n"
     ]
    }
   ],
   "source": [
    "#project euler47\n",
    "def cnPrime(x):\n",
    "    u = int(x ** (1/2))\n",
    "    k = 2\n",
    "    c = 0\n",
    "    while k <= u:\n",
    "        if x % k == 0:\n",
    "            c += 1\n",
    "            while x % k == 0:\n",
    "                x /= k\n",
    "        k += 1\n",
    "    if x > 1:\n",
    "        return c + 1\n",
    "    return c\n",
    "\n",
    "for i in range(10 ** 5, 351042):\n",
    "    c = True\n",
    "    for j in range(4):\n",
    "        if cnPrime(i + j) != 4:\n",
    "            c = False\n",
    "            break\n",
    "    if c:\n",
    "        print(i)\n",
    "        break"
   ]
  },
  {
   "cell_type": "code",
   "execution_count": 106,
   "id": "92511521-a2a2-441c-9a74-ec6425c9c4eb",
   "metadata": {},
   "outputs": [
    {
     "name": "stdout",
     "output_type": "stream",
     "text": [
      "5482660\n"
     ]
    }
   ],
   "source": [
    "#project euler44\n",
    "def P(i):\n",
    "    return (i * (3 * i - 1)) // 2\n",
    "\n",
    "def ispenta(x):\n",
    "    w = 24 * x + 1\n",
    "    u = int(w ** (1/2))\n",
    "    if w != u * u:\n",
    "        return False\n",
    "    if (u + 1) % 6 != 0:\n",
    "        return False\n",
    "    return True\n",
    "\n",
    "a = [P(i) for i in range(1, 10000)]\n",
    "i = 0\n",
    "r = 9999999\n",
    "\n",
    "while i < 10 ** 4:\n",
    "    alpha = i + 1\n",
    "    u, v = P(alpha), 3 * alpha\n",
    "    k, w, j = 0, 0, 0\n",
    "    for o in a:\n",
    "        j += 1\n",
    "        if o % v == u % v:\n",
    "            k = (o - u) // v\n",
    "            if k <= 0:\n",
    "                continue\n",
    "                \n",
    "            w = r\n",
    "            pk = P(k + alpha)\n",
    "            t1, t2 = o + pk, P(k) + pk\n",
    "            if ispenta(t1):\n",
    "                w = min(w, P(k))\n",
    "            if ispenta(t2):\n",
    "                w = min(w, o)\n",
    "            r = min(r, w)\n",
    "            break\n",
    "    i += 1\n",
    "    \n",
    "print(r)"
   ]
  },
  {
   "cell_type": "code",
   "execution_count": 4,
   "id": "c43d5a8c-4bd6-4487-abb7-81ca656904fc",
   "metadata": {},
   "outputs": [
    {
     "name": "stdout",
     "output_type": "stream",
     "text": [
      "162\n"
     ]
    }
   ],
   "source": [
    "#project euler42\n",
    "def calc(x):\n",
    "    return sum([ord(o) - 64 for o in x])\n",
    "\n",
    "def istriangle(x):\n",
    "    x = 8 * calc(x) + 1\n",
    "    u = int(x ** (1/2))\n",
    "    if x != u * u:\n",
    "        return False\n",
    "    return u % 2 == 1\n",
    "\n",
    "with open('test.txt', 'r') as f:\n",
    "    a = [o[1:-1] for o in f.read().split(',')]\n",
    "    b = list(filter(istriangle, a))\n",
    "    print(len(b))"
   ]
  },
  {
   "cell_type": "code",
   "execution_count": 10,
   "id": "8d79a134-591a-494d-b35b-d16c4420bd7d",
   "metadata": {},
   "outputs": [
    {
     "name": "stdout",
     "output_type": "stream",
     "text": [
      "-59231 971 -61\n"
     ]
    }
   ],
   "source": [
    "#project euler27\n",
    "def isprime(x):\n",
    "    i = 3\n",
    "    while i * i <= x:\n",
    "        if x % i == 0:\n",
    "            return False\n",
    "        i += 2\n",
    "    return True and x >= 2\n",
    "\n",
    "def calc(i, j, v):\n",
    "    return v * v + j * v + i\n",
    "\n",
    "r = 0\n",
    "ans = 0\n",
    "for i in range(999, 800, -2):\n",
    "    for j in range(-999, i):\n",
    "        c, k = 0, 0\n",
    "        while 1:\n",
    "            if isprime(calc(i, j, k)):\n",
    "                c += 1\n",
    "            else:\n",
    "                break\n",
    "            k += 1\n",
    "        if c > r:\n",
    "            ans = (i, j)\n",
    "            r = c\n",
    "print(ans[0] * ans[1], ans[0], ans[1])"
   ]
  },
  {
   "cell_type": "code",
   "execution_count": 13,
   "id": "036fd827-861f-4e18-b772-c0f579d4e854",
   "metadata": {},
   "outputs": [
    {
     "name": "stdout",
     "output_type": "stream",
     "text": [
      "285 40755\n",
      "55385 1533776805\n"
     ]
    }
   ],
   "source": [
    "#project euler45\n",
    "T = lambda x: (x*(x+1))//2\n",
    "P = lambda x: (x*(3*x-1))//2\n",
    "H = lambda x: x*(2*x-1)\n",
    "\n",
    "def ispenta(x):\n",
    "    w = 24 * x + 1\n",
    "    u = int(w ** (1/2))\n",
    "    if w != u * u:\n",
    "        return False\n",
    "    return (u + 1) % 6 == 0\n",
    "\n",
    "def ishexa(x):\n",
    "    x = 8 * x + 1\n",
    "    u = int(x ** (1/2))\n",
    "    if x != u * u:\n",
    "        return False\n",
    "    return u % 4 == 3\n",
    "\n",
    "i, v = 0, 284\n",
    "while i < 2:\n",
    "    w = T(v)\n",
    "    if ishexa(w) and ispenta(w):\n",
    "        print(v, w)\n",
    "        i += 1\n",
    "    v += 1"
   ]
  },
  {
   "cell_type": "code",
   "execution_count": 19,
   "id": "5ce60984-25b4-48fa-ad94-8a51bdc5ee62",
   "metadata": {},
   "outputs": [
    {
     "name": "stdout",
     "output_type": "stream",
     "text": [
      "100\n"
     ]
    }
   ],
   "source": [
    "#project euler33\n",
    "from math import gcd\n",
    "def f(x1, x2, u):\n",
    "    return x1 + x2 if u else x2 + x1\n",
    "\n",
    "def tryadd(i, j, k):\n",
    "    for u in range(2):\n",
    "        for v in range(2):\n",
    "            w0 = int(f(str(i), str(k), u))\n",
    "            w1 = int(f(str(j), str(k), v))\n",
    "            if i / j == w0 / w1:\n",
    "                return w0, w1\n",
    "    return 0, 0\n",
    "\n",
    "r1, r2 = 1, 1\n",
    "for i in range(1, 10):\n",
    "    for j in range(i+1, 10):\n",
    "        for k in range(1, 10):\n",
    "            w = tryadd(i, j, k)\n",
    "            if w != (0, 0):\n",
    "                r1 *= w[0]\n",
    "                r2 *= w[1]\n",
    "k = gcd(r1, r2)\n",
    "print(r2 // k)"
   ]
  },
  {
   "cell_type": "code",
   "execution_count": 22,
   "id": "f90fdf73-d097-4ace-8766-39605d75f83c",
   "metadata": {},
   "outputs": [
    {
     "name": "stdout",
     "output_type": "stream",
     "text": [
      "983\n"
     ]
    }
   ],
   "source": [
    "#project euler26\n",
    "def calc(d):\n",
    "    u = '9'\n",
    "    while int(u) % d != 0:\n",
    "        u += '9'\n",
    "    return len(u)\n",
    "\n",
    "m, r = 1000, 1\n",
    "ans = 0\n",
    "for i in range(4, m):\n",
    "    if m % i == 0:\n",
    "        continue\n",
    "    k = i\n",
    "    while k % 2 == 0:\n",
    "        k //= 2\n",
    "    while k % 5 == 0:\n",
    "        k //= 5\n",
    "    w = calc(k)\n",
    "    if w > r:\n",
    "        r = w\n",
    "        ans = i\n",
    "print(ans)"
   ]
  },
  {
   "cell_type": "code",
   "execution_count": 7,
   "id": "1d4a70df-460e-4539-8230-054c4625d614",
   "metadata": {},
   "outputs": [
    {
     "name": "stdout",
     "output_type": "stream",
     "text": [
      "70600674\n"
     ]
    }
   ],
   "source": [
    "#project euler11\n",
    "import re\n",
    "\n",
    "def calc(w, ii, jj, u, v):\n",
    "    r = 1\n",
    "    for i in range(4):\n",
    "        r *= w[ii][jj]\n",
    "        ii += u\n",
    "        jj += v\n",
    "    return r\n",
    "\n",
    "m = \"\"\"08 02 22 97 38 15 00 40 00 75 04 05 07 78 52 12 50 77 91 08\n",
    "49 49 99 40 17 81 18 57 60 87 17 40 98 43 69 48 04 56 62 00\n",
    "81 49 31 73 55 79 14 29 93 71 40 67 53 88 30 03 49 13 36 65\n",
    "52 70 95 23 04 60 11 42 69 24 68 56 01 32 56 71 37 02 36 91\n",
    "22 31 16 71 51 67 63 89 41 92 36 54 22 40 40 28 66 33 13 80\n",
    "24 47 32 60 99 03 45 02 44 75 33 53 78 36 84 20 35 17 12 50\n",
    "32 98 81 28 64 23 67 10 26 38 40 67 59 54 70 66 18 38 64 70\n",
    "67 26 20 68 02 62 12 20 95 63 94 39 63 08 40 91 66 49 94 21\n",
    "24 55 58 05 66 73 99 26 97 17 78 78 96 83 14 88 34 89 63 72\n",
    "21 36 23 09 75 00 76 44 20 45 35 14 00 61 33 97 34 31 33 95\n",
    "78 17 53 28 22 75 31 67 15 94 03 80 04 62 16 14 09 53 56 92\n",
    "16 39 05 42 96 35 31 47 55 58 88 24 00 17 54 24 36 29 85 57\n",
    "86 56 00 48 35 71 89 07 05 44 44 37 44 60 21 58 51 54 17 58\n",
    "19 80 81 68 05 94 47 69 28 73 92 13 86 52 17 77 04 89 55 40\n",
    "04 52 08 83 97 35 99 16 07 97 57 32 16 26 26 79 33 27 98 66\n",
    "88 36 68 87 57 62 20 72 03 46 33 67 46 55 12 32 63 93 53 69\n",
    "04 42 16 73 38 25 39 11 24 94 72 18 08 46 29 32 40 62 76 36\n",
    "20 69 36 41 72 30 23 88 34 62 99 69 82 67 59 85 74 04 36 16\n",
    "20 73 35 29 78 31 90 01 74 31 49 71 48 86 81 16 23 57 05 54\n",
    "01 70 54 71 83 51 54 69 16 92 33 48 61 43 52 01 89 19 67 48\"\"\"\n",
    "a = [int(o) for o in re.split(r'[\\n,\\s]\\s*', m)]\n",
    "w = [a[i:i+20] for i in range(0, 400, 20)]\n",
    "p = 1\n",
    "for i in range(20):\n",
    "    for j in range(20):\n",
    "        if i <= 16:\n",
    "            p = max(p, calc(w, i, j, 1, 0))\n",
    "            if j >= 3:\n",
    "                p = max(p, calc(w, i, j, 1, -1))\n",
    "            if j <= 16:\n",
    "                p = max(p, calc(w, i, j, 1, 1))\n",
    "        if j <= 16:\n",
    "            p = max(p, calc(w, i, j, 0, 1))\n",
    "print(p)"
   ]
  },
  {
   "cell_type": "code",
   "execution_count": 11,
   "id": "32ec71f8-b637-4148-9a21-dce2efecd69f",
   "metadata": {},
   "outputs": [
    {
     "name": "stdout",
     "output_type": "stream",
     "text": [
      "871198282\n"
     ]
    }
   ],
   "source": [
    "#project euler22\n",
    "def ps(o):\n",
    "    return ord(o) - 64\n",
    "\n",
    "def calc(w):\n",
    "    return sum([ps(o) for o in w])\n",
    "\n",
    "with open('test1.txt') as f:\n",
    "    a = [o[1:-1] for o in sorted(f.read().split(','))]\n",
    "    s = 0\n",
    "    for i in range(len(a)):\n",
    "        s += (i+1) * calc(a[i])\n",
    "    print(s)"
   ]
  },
  {
   "cell_type": "code",
   "execution_count": 16,
   "id": "8a5db909-85f9-49a2-bc17-9e99a7878c9e",
   "metadata": {},
   "outputs": [
    {
     "name": "stdout",
     "output_type": "stream",
     "text": [
      "500009\n",
      "543 997651\n"
     ]
    }
   ],
   "source": [
    "#project euler50\n",
    "from itertools import accumulate\n",
    "import bisect\n",
    "\n",
    "def index(a, x):\n",
    "    'Locate the leftmost value exactly equal to x'\n",
    "    i = bisect.bisect_left(a, x)\n",
    "    if i != len(a) and a[i] == x:\n",
    "        return i\n",
    "    return -1\n",
    "\n",
    "def SoE(num):\n",
    "    prime = [True for i in range(num+1)]\n",
    "# boolean array\n",
    "    p = 2\n",
    "    while (p * p <= num):\n",
    "        if (prime[p] == True):\n",
    " \n",
    "            # Updating all multiples of p\n",
    "            for i in range(p * p, num+1, p):\n",
    "                prime[i] = False\n",
    "        p += 1\n",
    " \n",
    "    return [0] + [p for p in range(2, len(prime)) if prime[p]]\n",
    "\n",
    "primes = SoE(10 ** 6)\n",
    "w = list(accumulate(primes))\n",
    "#print(w[1:50])\n",
    "u = int(len(w) ** (1/2))\n",
    "\n",
    "i = bisect.bisect_left(primes, 9 * 10 ** 5)\n",
    "r = 1\n",
    "ans = 0\n",
    "print(primes[i])\n",
    "for k in range(i, len(primes)-1):\n",
    "    for j in range(u):\n",
    "        v = index(w, w[j] + primes[k])\n",
    "        if v > 0 and v > r + j:\n",
    "            r = v-j\n",
    "            ans = w[v]-w[j]\n",
    "print(r, ans)\n",
    "            "
   ]
  },
  {
   "cell_type": "code",
   "execution_count": 21,
   "id": "8436a812-1df4-48c1-a992-742747340763",
   "metadata": {},
   "outputs": [
    {
     "name": "stdout",
     "output_type": "stream",
     "text": [
      "7273\n"
     ]
    }
   ],
   "source": [
    "#project euler18 & euler67\n",
    "def solve(m, L):\n",
    "    f = lambda n: (n*(n+1)) // 2\n",
    "    a = [int(o) for o in m.replace('\\n', ' ').split(' ')]\n",
    "\n",
    "    dp = {}\n",
    "    dp[(1, 1)] = a[0]\n",
    "    #dp[(2, 1)], dp[(2, 2)] = a[1], a[2]\n",
    "\n",
    "    k=2\n",
    "    while k <= L:\n",
    "        for i in range(1, k+1):\n",
    "            if i == 1:\n",
    "                dp[(k, i)] = dp[(k-1, i)]\n",
    "            elif i == k:\n",
    "                dp[(k, i)] = dp[(k-1, i-1)]\n",
    "            else:\n",
    "                dp[(k, i)] = max(dp[(k-1, i-1)], dp[(k-1, i)]) \n",
    "            dp[(k, i)] += a[f(k-1)+i-1]\n",
    "        k += 1\n",
    "\n",
    "    w = [dp[(L, i)] for i in range(1, L+1)]\n",
    "    print(max(w))\n",
    "    \n",
    "with open('test1.txt', 'r') as f:\n",
    "    solve(f.read(), 100)"
   ]
  },
  {
   "cell_type": "code",
   "execution_count": 28,
   "id": "cf85b5b6-8e9a-4990-80d8-3ee489176542",
   "metadata": {},
   "outputs": [
    {
     "name": "stdout",
     "output_type": "stream",
     "text": [
      "296962999629\n"
     ]
    }
   ],
   "source": [
    "#project euler49\n",
    "def equal_permu(a, b):\n",
    "    f = lambda x: ''.join(sorted(str(x)))\n",
    "    return f(a) == f(b)\n",
    "\n",
    "def isprime(x):\n",
    "    i = 3\n",
    "    while i * i <= x:\n",
    "        if x % i == 0:\n",
    "            return False\n",
    "        i += 2\n",
    "    return True and x % 2 != 0\n",
    "\n",
    "a = [o for o in range(10 ** 3 + 1, 10 ** 4) if isprime(o)]\n",
    "m = len(a)\n",
    "k = m // 3\n",
    "\n",
    "r = ''\n",
    "for i in range(k):\n",
    "    if a[i] == 1487:\n",
    "        continue\n",
    "    for j in range(k):\n",
    "        if equal_permu(a[i], a[-j-1]):\n",
    "            w = (a[i] + a[-j-1]) // 2\n",
    "            if isprime(w) and equal_permu(w, a[i]):\n",
    "                r = str(a[i]) + str(w) + str(a[-j-1])\n",
    "                break\n",
    "    if r:\n",
    "        break\n",
    "print(r)"
   ]
  },
  {
   "cell_type": "code",
   "execution_count": 44,
   "id": "dae1a526-b428-45e4-a0f4-11232af64ae9",
   "metadata": {},
   "outputs": [
    {
     "name": "stdout",
     "output_type": "stream",
     "text": [
      "840\n"
     ]
    }
   ],
   "source": [
    "#project euler39\n",
    "import math\n",
    "a= {}\n",
    "for i in range(3, 999):\n",
    "    for j in range(4, 999):\n",
    "        w = i * i + j * j\n",
    "        u = int(math.sqrt(w))\n",
    "        \n",
    "        if w == u * u and i + j + u <= 1000:\n",
    "            k = i + j + u\n",
    "            if k not in a:\n",
    "                a[k] = 1\n",
    "            else:\n",
    "                a[k] += 1\n",
    "\n",
    "m, r = 0, 0\n",
    "for o in a:\n",
    "    if a[o] > m:\n",
    "        m = a[o]\n",
    "        r = o\n",
    "print(r)"
   ]
  },
  {
   "cell_type": "code",
   "execution_count": 69,
   "id": "0fae0971-4c11-4938-b71e-d460afe08ef7",
   "metadata": {},
   "outputs": [
    {
     "name": "stdout",
     "output_type": "stream",
     "text": [
      "{1, 3, 5, 7, 9, 73737, 7447, 33, 9009, 313, 39993, 585, 53835, 717, 32223, 99, 585585, 53235, 15351} 872187\n"
     ]
    }
   ],
   "source": [
    "#project euler36\n",
    "def generate_ar(L, m):    \n",
    "    b_ar = []\n",
    "    def generate_func(i, j, b, m):\n",
    "        if i > j:\n",
    "            b_ar.append(b.copy())\n",
    "            return\n",
    "        \n",
    "        u = 0\n",
    "        if i == 0:\n",
    "            u = 1\n",
    "            \n",
    "        for k in range(u, m):\n",
    "            b[i], b[j] = k, k\n",
    "            generate_func(i+1, j-1, b, m)\n",
    "            \n",
    "    #generate array here\n",
    "    b = [0 for i in range(L)]\n",
    "    generate_func(0, L-1, b, m)\n",
    "    return b_ar\n",
    "\n",
    "def ar_cv(ar, base):\n",
    "    r, v = 0, 1\n",
    "    for w in ar[::-1]:\n",
    "        r += w * v\n",
    "        v *= base\n",
    "    return r\n",
    "     \n",
    "def getnumbers(L, base):\n",
    "    u = set()\n",
    "    for i in range(1, L+1):\n",
    "        w = [ar_cv(o, base) for o in generate_ar(i, base)]\n",
    "        u.update(set(w))\n",
    "    return u\n",
    "\n",
    "a = getnumbers(7, 10)\n",
    "b = getnumbers(20, 2)\n",
    "w = a.intersection(b)\n",
    "print(w, sum(w))"
   ]
  },
  {
   "cell_type": "code",
   "execution_count": 82,
   "id": "dd5f96d7-b586-4e90-8b66-b101c7775204",
   "metadata": {},
   "outputs": [
    {
     "name": "stdout",
     "output_type": "stream",
     "text": [
      "0357289\n",
      "0952867\n",
      "4357289\n",
      "4952867\n",
      "6357289\n",
      "16695334890\n"
     ]
    }
   ],
   "source": [
    "#project euler43\n",
    "r = 0\n",
    "for d6 in [0, 5]:\n",
    "    for d4 in range(0, 9, 2):\n",
    "        if d4 == d6:\n",
    "            continue\n",
    "        for d5 in range(10):\n",
    "            if d5 == d4 or d5 == d6:\n",
    "                continue\n",
    "            w0 = d5 * 100 + d6 * 10\n",
    "            for d7 in range(10):\n",
    "                if d7 in [d4, d5, d6] or (w0 + d7) % 7 != 0:\n",
    "                    continue\n",
    "                w1 = d6 * 10 + d7\n",
    "                d8 = 11 - (w1 * 10) % 11\n",
    "                if d8 > 9 or d8 in [d4, d5, d6, d7]:\n",
    "                    continue\n",
    "                w2 = d7 * 10 + d8\n",
    "                d9 = 13 - (w2 * 10) % 13\n",
    "                if d9 > 9 or d9 in [d4, d5, d6, d7, d8]:\n",
    "                    continue\n",
    "                w3 = d8 * 10 + d9\n",
    "                d10 = 17 - (w3 * 10) % 17\n",
    "                if d10 > 9 or d10 in [d4, d5, d6, d7, d8, d9]:\n",
    "                    continue\n",
    "                print(f'{d4}{d5}{d6}{d7}{d8}{d9}{d10}')\n",
    "                for d1 in range(1, 10):\n",
    "                    if d1 in [d4, d5, d6, d7, d8, d9, d10]:\n",
    "                        continue\n",
    "                    for d2 in range(10):\n",
    "                        if d2 in [d1, d4, d5, d6, d7, d8, d9, d10]:\n",
    "                            continue\n",
    "                        for d3 in range(10):\n",
    "                            if d3 in [d1, d2, d4, d5, d6, d7, d8, d9, d10] or (d3 + d4 + d5) % 3 != 0:\n",
    "                                continue\n",
    "                            v0 = str(d1 * 1000 + d2 * 100 + d3 * 10 + d4)\n",
    "                            v1 = str(d5 * 100 + d6 * 10 + d7)\n",
    "                            v2 = str(d8 * 100 + d9 * 10 + d10)\n",
    "                            r += int(v0 + v1 + v2)\n",
    "print(r)"
   ]
  },
  {
   "cell_type": "code",
   "execution_count": 124,
   "id": "43cdf77a-f3fb-4f69-adba-4f86a0858937",
   "metadata": {},
   "outputs": [
    {
     "name": "stdout",
     "output_type": "stream",
     "text": [
      "{3137, 3, 37, 739397, 7, 73, 53, 3797, 23, 373, 313, 317, 797} 748317 13\n"
     ]
    }
   ],
   "source": [
    "#project euler37\n",
    "def isprime(x):\n",
    "    i = 3\n",
    "    while i * i <= x:\n",
    "        if x % i == 0:\n",
    "            return False\n",
    "        i += 2\n",
    "    return True and (x % 2 != 0 or x == 2)\n",
    "\n",
    "a = []\n",
    "b = []\n",
    "def generate(s, ltr = True):\n",
    "    if len(s) == 8:\n",
    "        return\n",
    "    \n",
    "    u = int(s)\n",
    "    if isprime(u):\n",
    "        if ltr:\n",
    "            a.append(u)\n",
    "        else:\n",
    "            b.append(u)\n",
    "    else:\n",
    "        return \n",
    "    \n",
    "    if ltr:\n",
    "        for o in ['1', '3', '7', '5', '9']:\n",
    "            generate(s + o, ltr)\n",
    "    else:\n",
    "        for o in ['1', '2', '3', '5', '7', '9']: \n",
    "            generate(o + s, ltr)\n",
    "\n",
    "for o in ['2', '3', '5', '7']:\n",
    "    generate(o)\n",
    "for o in ['3', '7']:\n",
    "    generate(o, False)\n",
    "    \n",
    "##print(b)\n",
    "w = set(a).intersection(set(b))\n",
    "print(w, sum(w) - 10, len(w))"
   ]
  },
  {
   "cell_type": "code",
   "execution_count": 142,
   "id": "2a0d1203-765a-4d27-9c31-2aba727231fb",
   "metadata": {},
   "outputs": [
    {
     "name": "stdout",
     "output_type": "stream",
     "text": [
      "#1 200:  1\n",
      "#2 200:  100\n",
      "#5 200:  1980\n",
      "#10 200:  13130\n",
      "#20 200:  32485\n",
      "#50 200:  21422\n",
      "#100 200:  4563\n",
      "#200 200:  1\n",
      "73682\n"
     ]
    }
   ],
   "source": [
    "#project euler31\n",
    "a = {}\n",
    "a[(1, 1)] = 1\n",
    "a[(1, 2)] = 1\n",
    "a[(2, 2)] = 1\n",
    "\n",
    "w = [1, 2, 5, 10, 20, 50, 100, 200]\n",
    "\n",
    "for i in range(3, 201):\n",
    "    for j in w:\n",
    "        if j == 1:\n",
    "            a[(j, i)] = 1\n",
    "        elif j == i:\n",
    "            a[(j, j)] = 1\n",
    "        elif j > i:\n",
    "            break\n",
    "        else:\n",
    "            a[(j, i)] = 0\n",
    "            for k in w:\n",
    "                if k > j or k > i-j:\n",
    "                    break\n",
    "                a[(j, i)] += a[(k, i-j)]\n",
    "    \n",
    "def answer(M):\n",
    "    r = 0\n",
    "    for i in w:\n",
    "        if i > M:\n",
    "            break\n",
    "        r += a[(i, M)]\n",
    "        print(f'#{i} {M}: ',a [(i, M)])\n",
    "    return r\n",
    "    \n",
    "print(answer(200))"
   ]
  },
  {
   "cell_type": "code",
   "execution_count": 4,
   "id": "c54f5de7-f045-4f1b-96e0-825d20519f2f",
   "metadata": {},
   "outputs": [
    {
     "name": "stdout",
     "output_type": "stream",
     "text": [
      "[1, 2, 145, 40585] 40733\n"
     ]
    }
   ],
   "source": [
    "#project euler34\n",
    "a = [1]\n",
    "w = {'0': 1}\n",
    "_w = {}\n",
    "for i in range(1, 10):\n",
    "    a.append(a[-1] * i)\n",
    "    w[str(i)] = a[i]\n",
    "    \n",
    "f = lambda x: sum([w[o] for o in str(x)])\n",
    "\n",
    "a = []\n",
    "for u in range(10 ** 5):\n",
    "    if u == f(u):\n",
    "        a.append(u)\n",
    "print(a, sum(a))"
   ]
  },
  {
   "cell_type": "code",
   "execution_count": null,
   "id": "b1536666-598c-4743-973e-7a81562d6090",
   "metadata": {},
   "outputs": [],
   "source": []
  }
 ],
 "metadata": {
  "kernelspec": {
   "display_name": "Python 3.10.5 64-bit",
   "language": "python",
   "name": "python3"
  },
  "language_info": {
   "codemirror_mode": {
    "name": "ipython",
    "version": 3
   },
   "file_extension": ".py",
   "mimetype": "text/x-python",
   "name": "python",
   "nbconvert_exporter": "python",
   "pygments_lexer": "ipython3",
   "version": "3.10.5"
  },
  "vscode": {
   "interpreter": {
    "hash": "a42ccb73e7d9bfdf27e036f1d2b8b681e55fc0743cc5586bc2474d4a60f4b886"
   }
  }
 },
 "nbformat": 4,
 "nbformat_minor": 5
}
