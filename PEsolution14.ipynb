{
 "cells": [
  {
   "cell_type": "code",
   "execution_count": 20,
   "metadata": {},
   "outputs": [
    {
     "name": "stdout",
     "output_type": "stream",
     "text": [
      "1\n",
      "14387746388557830\n"
     ]
    }
   ],
   "source": [
    "#project euler700\n",
    "from math import gcd\n",
    "a = 1504170715041707\n",
    "m = 4503599627370517 #have tested, is prime (under 3.0s)\n",
    "\n",
    "def isprime(x):\n",
    "    j = 7\n",
    "    while j * j <= x:\n",
    "        if x % j == 0 or x % (j + 4) == 0:\n",
    "            return False\n",
    "        j += 6\n",
    "    \n",
    "    return True\n",
    "#print(isprime(m))\n",
    "\n",
    "#p is prime\n",
    "def calc(k, p, L = 10 ** 7):\n",
    "    v = pow(k, p - 2, p)\n",
    "    s, j = 0, 1\n",
    "    old_v = v\n",
    "    while j < m:\n",
    "        c = (j * v) % m\n",
    "        if c < old_c:\n",
    "            old_c = c\n",
    "            s += c\n",
    "            #print(f'updated: {old_c}')\n",
    "        if old_c <= 10 ** 8:\n",
    "            w = a\n",
    "            for k in range(2, old_c):\n",
    "                u = (a * k) % p\n",
    "                if u < w:\n",
    "                    s += u\n",
    "                    w = u\n",
    "            #print('In the zone!')\n",
    "            break\n",
    "        j += 1\n",
    "print(s + v + a + m)"
   ]
  }
 ],
 "metadata": {
  "kernelspec": {
   "display_name": "Python 3.10.5 64-bit",
   "language": "python",
   "name": "python3"
  },
  "language_info": {
   "codemirror_mode": {
    "name": "ipython",
    "version": 3
   },
   "file_extension": ".py",
   "mimetype": "text/x-python",
   "name": "python",
   "nbconvert_exporter": "python",
   "pygments_lexer": "ipython3",
   "version": "3.10.5"
  },
  "orig_nbformat": 4,
  "vscode": {
   "interpreter": {
    "hash": "a42ccb73e7d9bfdf27e036f1d2b8b681e55fc0743cc5586bc2474d4a60f4b886"
   }
  }
 },
 "nbformat": 4,
 "nbformat_minor": 2
}
