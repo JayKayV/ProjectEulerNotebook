{
 "cells": [
  {
   "cell_type": "code",
   "execution_count": 30,
   "id": "fef63d81-94e4-4a5a-a72a-1340457e2e37",
   "metadata": {},
   "outputs": [
    {
     "name": "stdout",
     "output_type": "stream",
     "text": [
      "4 4 6 8 4\n",
      "986262\n"
     ]
    }
   ],
   "source": [
    "#project euler179\n",
    "from math import sqrt\n",
    "def SoDv(num):\n",
    "    prime = [1 for i in range(num+1)]\n",
    "    p = 2\n",
    "    while (p * 2 <= num):\n",
    "        \n",
    "        # If prime[p] is not\n",
    "        # changed, then it is a prime\n",
    "        if prime[p] == 1:\n",
    " \n",
    "            # Updating all multiples of p\n",
    "            for i in range(p * 2, num+1, p):\n",
    "                u = i\n",
    "                c = 0\n",
    "                while u % p == 0:\n",
    "                    u //= p\n",
    "                    c += 1\n",
    "                prime[i] *= (c+1)\n",
    "        p += 1\n",
    " \n",
    "    return prime\n",
    "\n",
    "M = 10 ** 7\n",
    "a = SoDv(M)\n",
    "def cntDiv(n) :\n",
    "    cnt = 0\n",
    "    for i in range(1, (int)(sqrt(n)) + 1) :\n",
    "        if (n % i == 0) :\n",
    "             \n",
    "            # If divisors are equal,\n",
    "            # count only one\n",
    "            if (n / i == i) :\n",
    "                cnt = cnt + 1\n",
    "            else : # Otherwise count both\n",
    "                cnt = cnt + 2\n",
    "                 \n",
    "    return cnt\n",
    "        \n",
    "k2 = []\n",
    "print(a[14], a[15], a[32], a[24], a[982])\n",
    "for i in range(2, M):\n",
    "    if a[i] == a[i+1]:\n",
    "        k2.append(i)\n",
    "print(len(k2))"
   ]
  },
  {
   "cell_type": "code",
   "execution_count": 59,
   "id": "7bf9a490-a5c3-4a23-816d-e6dce3f67817",
   "metadata": {},
   "outputs": [
    {
     "name": "stdout",
     "output_type": "stream",
     "text": [
      "17427258\n"
     ]
    }
   ],
   "source": [
    "#project euler187\n",
    "\n",
    "def SoE(num):\n",
    "    prime = [True for i in range(num+1)]\n",
    "    p = 2\n",
    "    while (p * p <= num):\n",
    " \n",
    "        # If prime[p] is not\n",
    "        # changed, then it is a prime\n",
    "        if (prime[p] == True):\n",
    "            \n",
    "            # Updating all multiples of p\n",
    "            for i in range(p * p, num+1, p):\n",
    "                prime[i] = False\n",
    "        p += 1\n",
    "        \n",
    "    w = {}\n",
    "    c = 1\n",
    "    for p in range(2, len(prime)):\n",
    "        if prime[p]:\n",
    "            w[p] = c\n",
    "            c += 1\n",
    "    return w\n",
    "\n",
    "M = 10 ** 8\n",
    "a = SoE(M)\n",
    "#print(a)\n",
    "\n",
    "v = 0\n",
    "for o in a:\n",
    "    k = M // o\n",
    "    while k not in a:\n",
    "        k -= 1\n",
    "    if k < o:\n",
    "        break\n",
    "    v += (a[k] - a[o] + 1)\n",
    "\n",
    "print(v)"
   ]
  },
  {
   "cell_type": "code",
   "execution_count": 4,
   "id": "597bb949-1150-4355-8a86-86371c2a6603",
   "metadata": {},
   "outputs": [
    {
     "name": "stdout",
     "output_type": "stream",
     "text": [
      "1000000 ~ 1572729\n"
     ]
    }
   ],
   "source": [
    "#project euler173\n",
    "L = 10 ** 6\n",
    "k = 1\n",
    "total = 0\n",
    "while True:\n",
    "    c = 0\n",
    "    j = 2\n",
    "    while (k + j) * (k + j) - (k * k) <= L:\n",
    "        c += 1\n",
    "        j += 2 \n",
    "\n",
    "    if c == 0:\n",
    "        break\n",
    "    total += c\n",
    "    k += 1\n",
    "print(L, '~', total)"
   ]
  },
  {
   "cell_type": "code",
   "execution_count": 3,
   "id": "68400f15",
   "metadata": {},
   "outputs": [
    {
     "name": "stdout",
     "output_type": "stream",
     "text": [
      "answer: 7130034\n"
     ]
    }
   ],
   "source": [
    "#project euler166\n",
    "f = lambda x: max(x - 9, 0)\n",
    "h = lambda x: min(x+1, 10)\n",
    "\n",
    "def chooseTheRest(i6, i7, i10, i11):\n",
    "    s = i6 + i7 + i10 + i11\n",
    "    k1 = s - i6 - i11\n",
    "    k2 = s - i6 - i10\n",
    "    k3 = s - i7 - i11\n",
    "    k5 = s - i6 - i7\n",
    "\n",
    "    c = 0\n",
    "    for i1 in range(f(k1), h(k1)):\n",
    "        for i2 in range(f(k2), h(k2)):\n",
    "            for i3 in range(f(k3), h(k3)):\n",
    "                for i5 in range(f(k5), h(k5)):\n",
    "                    i4 = s - i1 - i2 - i3\n",
    "                    i16 = k1 - i1\n",
    "                    i15 = k3 - i3                                          \n",
    "                    i14 = k2 - i2\n",
    "                    i13 = s - i1 - i4 - i16\n",
    "                    i9 = s - i1 - i5 - i13\n",
    "                    i8 = k5 - i5\n",
    "                    i12 = s - i10 - i11 - i9\n",
    "                    w = [i4, i8, i9, i12, i13, i14, i15, i16]\n",
    "\n",
    "                    if any([j < 0 or j > 9 for j in w]):\n",
    "                        continue\n",
    "                    if i4 + i7 + i10 + i13 != s or i4 + i8 + i12 + i16 != s:\n",
    "                        continue\n",
    "                    c += 1\n",
    "    return c\n",
    "\n",
    "total = 0\n",
    "for i6 in range(0, 10):\n",
    "    for i7 in range(0, 10):\n",
    "        for i10 in range(0, 10):\n",
    "            for i11 in range(0, 10):\n",
    "                total += chooseTheRest(i6, i7, i10, i11)\n",
    "print('answer:', total)"
   ]
  },
  {
   "cell_type": "code",
   "execution_count": 10,
   "id": "77ce8a8b",
   "metadata": {},
   "outputs": [
    {
     "name": "stdout",
     "output_type": "stream",
     "text": [
      "378158756814587\n"
     ]
    }
   ],
   "source": [
    "#project euler164\n",
    "from functools import lru_cache\n",
    "@lru_cache(maxsize = 512)\n",
    "def f(fd, s, dgs):\n",
    "    if dgs == 2:\n",
    "        #print(r)\n",
    "        return 1\n",
    "\n",
    "    u = 0\n",
    "    for h in range(10 - s):\n",
    "        u += f(s - fd, s - fd + h, dgs - 1)\n",
    "    return u\n",
    "\n",
    "total = 0\n",
    "for d in range(1, 10):\n",
    "    for s in range(d, 10):\n",
    "        total += f(d, s, 20)\n",
    "print(total)"
   ]
  },
  {
   "cell_type": "code",
   "execution_count": 28,
   "id": "fd9cb660",
   "metadata": {},
   "outputs": [
    {
     "name": "stdout",
     "output_type": "stream",
     "text": [
      "178653872807\n"
     ]
    }
   ],
   "source": [
    "#project euler169\n",
    "from functools import lru_cache\n",
    "def j(s):\n",
    "    return ''.join(s)\n",
    "\n",
    "def f(n : int):\n",
    "    s = list(format(n, 'b'))\n",
    "    h = len(s)\n",
    "    a = [s]\n",
    "    decked_out = set()\n",
    "    while a:\n",
    "        v = a.pop(0)\n",
    "        m = j(v)\n",
    "\n",
    "        if tuple(m) in decked_out:\n",
    "            continue\n",
    "        else:\n",
    "            for i in range(h - 1):\n",
    "                if v[i] == '1' and v[i + 1] == '0':\n",
    "                    w = v.copy()\n",
    "                    w[i], w[i+1] = '0', '2' \n",
    "                    a.append(w)\n",
    "                elif v[i] == '2' and v[i + 1] == '0':\n",
    "                    w = v.copy()\n",
    "                    w[i], w[i+1] = '1', '2'\n",
    "                    a.append(w)\n",
    "\n",
    "            decked_out.add(m)\n",
    "    #print(decked_out)\n",
    "    return len(decked_out)\n",
    "\n",
    "@lru_cache(maxsize=128)\n",
    "def hf(n):\n",
    "    if n <= 1:\n",
    "        return n\n",
    "    if n % 2 == 0:\n",
    "        return hf(n // 2)\n",
    "    k = n // 2\n",
    "    return hf(k) + hf(k + 1)\n",
    "\n",
    "u = 10 ** 25\n",
    "print(hf(u+1))"
   ]
  },
  {
   "cell_type": "code",
   "execution_count": 5,
   "id": "3002fd81",
   "metadata": {},
   "outputs": [
    {
     "name": "stdout",
     "output_type": "stream",
     "text": [
      "1918080160\n"
     ]
    }
   ],
   "source": [
    "#project euler191\n",
    "from functools import lru_cache\n",
    "\n",
    "@lru_cache(maxsize = 256)\n",
    "def h(n):\n",
    "    if n <= 2:\n",
    "        return 2 ** n\n",
    "\n",
    "    return h(n-1) + h(n-2) + h(n-3)\n",
    "\n",
    "k1 = h(30)\n",
    "s = 0\n",
    "L = 30\n",
    "for j in range(1, L+1):\n",
    "    #j is position of L: late\n",
    "    if j == 1 or j == L:\n",
    "        s += h(L-1)\n",
    "    else:\n",
    "        s += h(j-1) * h(L-j)\n",
    "print(s + k1)\n",
    "    "
   ]
  },
  {
   "cell_type": "code",
   "execution_count": 27,
   "id": "f063f6b2",
   "metadata": {},
   "outputs": [
    {
     "name": "stdout",
     "output_type": "stream",
     "text": [
      "0X3D58725572C62302\n"
     ]
    }
   ],
   "source": [
    "#project euler162\n",
    "def calc(n):\n",
    "    #calc no 1, no A, no 0, and chooseAll\n",
    "    h = 14 * 15 ** (n-1)\n",
    "    no1, noA = h, h\n",
    "    no0 = 15 ** n\n",
    "    cAll =  15 * 16 ** (n-1)\n",
    "    \n",
    "    #no 1 and no A\n",
    "    no1andA = 13 * 14 ** (n-1)\n",
    "    #no 0 and A or no 0 and 1\n",
    "    h = 14 ** n\n",
    "    no1and0, noAand0 = h, h\n",
    "    #no A and no 0 and no 1\n",
    "    noA01 = 13 ** n\n",
    "\n",
    "    #have A or 0 or 1\n",
    "    calA01 = cAll - noA01\n",
    "\n",
    "    #have A or 0\n",
    "    cA0 = cAll - noAand0\n",
    "    #have A or 1\n",
    "    cA1 = cAll - no1andA\n",
    "    #have 1 or 0\n",
    "    c10 = cAll - no1and0\n",
    "\n",
    "    #must have 1 and no A and 0\n",
    "    c_m1 = calA01 - cA0\n",
    "    #must have 0 and no A and 1\n",
    "    c_m0 = calA01 - cA1\n",
    "    #must have A and no 1 and 0\n",
    "    c_mA = calA01 - c10\n",
    "\n",
    "    #must have 1 and either A or 0\n",
    "    c_e1 = (cAll - no1) - c_m1\n",
    "    #must have 0 and either A or 1\n",
    "    c_e0 = (cAll - no0) - c_m0\n",
    "    #must have A and either 1 or 0\n",
    "    c_eA = (cAll - noA) - c_mA\n",
    "\n",
    "    #have at least 2 of 3\n",
    "    c23 = calA01 - (c_m1 + c_m0 + c_mA)\n",
    "    t1, t2, t3 = c23 - c_e1, c23 - c_e0, c23 - c_eA\n",
    "    result = c23 - (t1 + t2 + t3) \n",
    "    \n",
    "    return result\n",
    "\n",
    "s = 0\n",
    "L = 16\n",
    "for j in range(3, L+1):\n",
    "    s += calc(j)\n",
    "\n",
    "#print in hex format\n",
    "print(format(s, '#X'))"
   ]
  },
  {
   "cell_type": "code",
   "execution_count": 14,
   "id": "3d939e20",
   "metadata": {},
   "outputs": [
    {
     "name": "stdout",
     "output_type": "stream",
     "text": [
      "409511334375\n"
     ]
    }
   ],
   "source": [
    "#project euler158\n",
    "from functools import lru_cache\n",
    "facs = [1]\n",
    "L = 26\n",
    "for i in range(1, L+1):\n",
    "    facs.append(facs[-1] * i)\n",
    "\n",
    "w = facs[26]\n",
    "\n",
    "def c(n):\n",
    "    return (w // facs[n]) // facs[26-n]\n",
    "\n",
    "f = [0, 0]\n",
    "@lru_cache(maxsize = 256)\n",
    "def g(a, n):\n",
    "    if a == 1:\n",
    "        return 1\n",
    "    if a == n:\n",
    "        return f[n-1] \n",
    "\n",
    "    s = 0\n",
    "    for k in range(1, a):\n",
    "        s += g(k, n-1)\n",
    "    return s + 1\n",
    "\n",
    "def calc(n):\n",
    "    s = 0\n",
    "    for j in range(1, n+1):\n",
    "        s += g(j, n)\n",
    "    return s\n",
    "\n",
    "for j in range(2, 27):\n",
    "    f.append(calc(j))\n",
    "\n",
    "def p(n):\n",
    "    return f[n] * c(n)\n",
    "\n",
    "a = [p(j) for j in range(1, 27)]\n",
    "print(max(a))"
   ]
  },
  {
   "cell_type": "code",
   "execution_count": 13,
   "id": "85bfd45d",
   "metadata": {},
   "outputs": [
    {
     "name": "stdout",
     "output_type": "stream",
     "text": [
      "202 4\n"
     ]
    }
   ],
   "source": [
    "#project euler176\n",
    "def cnt(n):\n",
    "    c = 0\n",
    "    w = n * n\n",
    "    u = 1\n",
    "    if n % 2 == 0:\n",
    "        u = 2\n",
    "\n",
    "    for j in range(u, n, 2):\n",
    "        if w % j == 0:\n",
    "            v = w // j\n",
    "            if (j + v) % 2 == 0:\n",
    "                c += 1\n",
    "    return c\n",
    "\n",
    "L = 10000\n",
    "h = [cnt(j) for j in range(3, L+1)]\n",
    "print(max(h), h[9])"
   ]
  },
  {
   "cell_type": "code",
   "execution_count": 16,
   "id": "3092bf63",
   "metadata": {},
   "outputs": [
    {
     "name": "stdout",
     "output_type": "stream",
     "text": [
      "7 3\n",
      "14489159\n"
     ]
    }
   ],
   "source": [
    "#project euler159\n",
    "a = [j for j in range(10)]\n",
    "\n",
    "def dgs(n):\n",
    "    v = sum([int(o) for o in str(n)])\n",
    "    if v >= 10:\n",
    "        return dgs(v)\n",
    "    return v\n",
    "\n",
    "def mdrs(k):\n",
    "    u = int(k ** (1/2))\n",
    "    v = -1\n",
    "    j = 2\n",
    "    while j <= u:\n",
    "        if k % j == 0:\n",
    "            v = max(v, dgs(j) + a[k // j])\n",
    "        j += 1\n",
    "    if k == 39:\n",
    "        print(v, dgs(k))\n",
    "    return max(v, dgs(k))\n",
    "\n",
    "L = 10 ** 6\n",
    "for j in range(10, L):\n",
    "    a.append(mdrs(j))\n",
    "\n",
    "print(sum(a) - 1)"
   ]
  },
  {
   "cell_type": "code",
   "execution_count": 12,
   "id": "aa4bd2d3",
   "metadata": {},
   "outputs": [
    {
     "data": {
      "image/png": "[encoded data removed]",
      "text/plain": [
       "<Figure size 432x288 with 1 Axes>"
      ]
     },
     "metadata": {
      "needs_background": "light"
     },
     "output_type": "display_data"
    },
    {
     "name": "stdout",
     "output_type": "stream",
     "text": [
      "0.681175878 1.029461839 0.681175878 1.029461839 1.710637717\n"
     ]
    }
   ],
   "source": [
    "#project euler197\n",
    "from decimal import Decimal\n",
    "import matplotlib.pyplot as plt\n",
    "\n",
    "h = 10 ** (-9)\n",
    "def f(x):\n",
    "    w = 2 ** (30.403243784 - x ** 2)\n",
    "    return int(w) * h\n",
    "\n",
    "a = -1\n",
    "L = 1007\n",
    "#print('0', a)\n",
    "ar = []\n",
    "for j in range(1, L+1):\n",
    "    a = f(a)\n",
    "    #print('#', j, a)\n",
    "    ar.append(a)\n",
    "#print(ar)\n",
    "\n",
    "plt.xlabel('index')\n",
    "plt.ylabel('value')\n",
    "h = len(ar)\n",
    "w = [ar[j] for j in range(0, h, 2)]\n",
    "plt.plot(w)\n",
    "plt.show()\n",
    "\n",
    "#all the value converge, so we only need to check after certain point\n",
    "#as you can see here a[-1] = a[-3] when considering only first 9 digits after decimal point\n",
    "#hence we can print the result right away\n",
    "print(ar[-1], ar[-2], ar[-3], ar[-4], ar[-1] + ar[-2])"
   ]
  },
  {
   "cell_type": "code",
   "execution_count": 23,
   "id": "64957f96",
   "metadata": {},
   "outputs": [
    {
     "name": "stdout",
     "output_type": "stream",
     "text": [
      "- 3 4\n",
      "48861552\n"
     ]
    }
   ],
   "source": [
    "#project euler183\n",
    "from math import e, log, gcd\n",
    "\n",
    "def f(n, k):\n",
    "    h = log(n) - log(k)\n",
    "    return h * k\n",
    "\n",
    "def calc(n):\n",
    "    m = int(n / e)\n",
    "\n",
    "    u, v = f(n, m), f(n, m+1)\n",
    "    if v > u:\n",
    "        return m + 1\n",
    "    return m\n",
    "\n",
    "def D(n):\n",
    "    h = calc(n)\n",
    "    h //= gcd(n, h)\n",
    "\n",
    "    while h % 2 == 0:\n",
    "        h //= 2\n",
    "    while h % 5 == 0:\n",
    "        h //= 5\n",
    "    return -n if h == 1 else n\n",
    "\n",
    "print('-', calc(8), calc(11))\n",
    "s = 0\n",
    "L = 10000\n",
    "for k in range(5, L+1):\n",
    "    #print(k, calc(k))\n",
    "    s += D(k)\n",
    "print(s)"
   ]
  },
  {
   "cell_type": "code",
   "execution_count": 5,
   "id": "9e082b7f",
   "metadata": {},
   "outputs": [
    {
     "name": "stdout",
     "output_type": "stream",
     "text": [
      "209566\n"
     ]
    }
   ],
   "source": [
    "#project euler174\\\n",
    "a = {}\n",
    "t = 10 ** 6\n",
    "\n",
    "def N(n):\n",
    "    v = n + 2\n",
    "    k = (v * v) - (n * n)\n",
    "    while k <= t:\n",
    "        if k in a:\n",
    "            a[k] += 1\n",
    "        else:\n",
    "            a[k] = 1\n",
    "        v += 2\n",
    "        k = (v * v) - (n * n)\n",
    "\n",
    "j = 1\n",
    "d = 4 * j + 4\n",
    "while d <= t:\n",
    "    N(j)\n",
    "    j += 1\n",
    "    d = 4 * (j + 1)\n",
    "\n",
    "m = {}\n",
    "for o in a:\n",
    "    v = a[o]\n",
    "    if v not in m:\n",
    "        m[v] = 1\n",
    "    else:\n",
    "        m[v] += 1\n",
    "\n",
    "s = sum([m[j] for j in range(1, 11)])\n",
    "print(s)"
   ]
  },
  {
   "cell_type": "code",
   "execution_count": 17,
   "id": "9df78e0f",
   "metadata": {},
   "outputs": [
    {
     "name": "stdout",
     "output_type": "stream",
     "text": [
      "# 79999\n",
      "7814164687312105534853127 4802290253555365499109376\n",
      "result: 16576\n"
     ]
    }
   ],
   "source": [
    "#project euler160\n",
    "m = 10 ** 5\n",
    "_m = 10 ** 25\n",
    "\n",
    "def check(n, md = 10 ** 40, cstep = 5000):\n",
    "    k = 3628800\n",
    "    j = 11\n",
    "    while j <= n:\n",
    "        k = (k * j) % md\n",
    "\n",
    "        while k % 10 == 0:\n",
    "            k //= 10\n",
    "        if j % cstep == 0:\n",
    "            print(j, k % m)\n",
    "        j += 1\n",
    "\n",
    "def calculate_cycle(length, start_value = 1, rd2 = 0):\n",
    "    k = start_value\n",
    "    j = 2\n",
    "    while j <= length:\n",
    "        if j % 5 != 0: \n",
    "            if j % 2 != 0 or rd2 == 0:\n",
    "                k = (k * j) % _m\n",
    "            elif rd2 > 0:\n",
    "                u, t = j, 0\n",
    "                while u % 2 == 0:\n",
    "                    u //= 2\n",
    "                    t += 1\n",
    "                if t > rd2:\n",
    "                    k = (k * u * (2 ** (t - rd2))) % _m\n",
    "                    rd2 = 0\n",
    "                else:\n",
    "                    k = (k * u) % _m\n",
    "                    rd2 -= t\n",
    "        j += 1\n",
    "    return k\n",
    "\n",
    "def times_of_k(length, k = 5):\n",
    "    j, p = k, 1\n",
    "    times = 0\n",
    "    while j <= length:\n",
    "        v0, v1 = length // (j * k), (length % (j * k)) // j\n",
    "        _v = (k - 1) * v0 + v1\n",
    "        times += _v * p\n",
    "\n",
    "        j *= k\n",
    "        p += 1\n",
    "    return times\n",
    "\n",
    "def true_number_of_2(length):\n",
    "    j, m = 2, 0\n",
    "    while j <= length:\n",
    "        if j % 5 != 0:\n",
    "            k = j\n",
    "            while k % 2 == 0:\n",
    "                k //= 2\n",
    "                m += 1\n",
    "        j += 2\n",
    "    return m\n",
    "\n",
    "_t2 = true_number_of_2(m)\n",
    "print('#', _t2)\n",
    "t0 = calculate_cycle(m, 1, _t2)\n",
    "t1 = calculate_cycle(m)\n",
    "print(t0, t1)\n",
    "def calculate(length):\n",
    "    t5 = times_of_k(length, 5)\n",
    "    j, p = 1, 0\n",
    "    u = 1\n",
    "    while j <= length:\n",
    "        d = length // j\n",
    "        if t5 > 0:\n",
    "            if t5 >= _t2:\n",
    "                t5_0, t5_1 = t5 // _t2, t5 % _t2\n",
    "                v0, v1 = pow(t0, t5_0, _m), calculate_cycle(m, 1, t5_1)\n",
    "                u = (u * v0 * v1) % _m\n",
    "                #print(t5, _t2, t5_0, t5_1, v0, v1, u)\n",
    "                d -= (m * (t5_0 + 1))\n",
    "                #print(d)\n",
    "                t5 = 0\n",
    "            else:\n",
    "                u = (u * calculate_cycle(d, 1, t5))\n",
    "                #print(u)\n",
    "                t5 = 0\n",
    "                d = 0\n",
    "        if d > m:\n",
    "            d0, d1 = d // m, d % m\n",
    "            v0, v1 = pow(t1, d0, _m), calculate_cycle(d1)\n",
    "            #print(d0, d1, v0, v1)\n",
    "            u = (u * v0 * v1) % _m\n",
    "        elif d > 0:\n",
    "            #print(d, calculate_cycle(d), u * 6)\n",
    "            u = (u * calculate_cycle(d)) % _m\n",
    "            #print(j, d, u)\n",
    "        j *= 5\n",
    "        p += 1\n",
    "    return u % m\n",
    "\n",
    "L = 4 * 10 ** 5\n",
    "_L = 10 ** 12\n",
    "print('result:', calculate(_L))\n"
   ]
  },
  {
   "cell_type": "code",
   "execution_count": 4,
   "id": "073e8fda",
   "metadata": {},
   "outputs": [
    {
     "name": "stdout",
     "output_type": "stream",
     "text": [
      "4112.08500285362\n",
      "total: 371048281\n"
     ]
    }
   ],
   "source": [
    "#project euler190\n",
    "k = 1\n",
    "s = 1\n",
    "h = 0\n",
    "for j in range(2, 16):\n",
    "    k *= (j ** j)\n",
    "    s += j\n",
    "    v = (k * (j / s) ** s)\n",
    "    h += int(v)\n",
    "    if j == 10:\n",
    "        print(v)\n",
    "print('total:', h)\n"
   ]
  }
 ],
 "metadata": {
  "kernelspec": {
   "display_name": "Python 3.10.5 64-bit",
   "language": "python",
   "name": "python3"
  },
  "language_info": {
   "codemirror_mode": {
    "name": "ipython",
    "version": 3
   },
   "file_extension": ".py",
   "mimetype": "text/x-python",
   "name": "python",
   "nbconvert_exporter": "python",
   "pygments_lexer": "ipython3",
   "version": "3.10.5"
  },
  "vscode": {
   "interpreter": {
    "hash": "a42ccb73e7d9bfdf27e036f1d2b8b681e55fc0743cc5586bc2474d4a60f4b886"
   }
  }
 },
 "nbformat": 4,
 "nbformat_minor": 5
}
