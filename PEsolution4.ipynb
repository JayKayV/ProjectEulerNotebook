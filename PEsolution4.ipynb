{
 "cells": [
  {
   "cell_type": "code",
   "execution_count": 30,
   "id": "fef63d81-94e4-4a5a-a72a-1340457e2e37",
   "metadata": {},
   "outputs": [
    {
     "name": "stdout",
     "output_type": "stream",
     "text": [
      "4 4 6 8 4\n",
      "986262\n"
     ]
    }
   ],
   "source": [
    "#project euler179\n",
    "from math import sqrt\n",
    "def SoDv(num):\n",
    "    prime = [1 for i in range(num+1)]\n",
    "    p = 2\n",
    "    while (p * 2 <= num):\n",
    "        \n",
    "        # If prime[p] is not\n",
    "        # changed, then it is a prime\n",
    "        if prime[p] == 1:\n",
    " \n",
    "            # Updating all multiples of p\n",
    "            for i in range(p * 2, num+1, p):\n",
    "                u = i\n",
    "                c = 0\n",
    "                while u % p == 0:\n",
    "                    u //= p\n",
    "                    c += 1\n",
    "                prime[i] *= (c+1)\n",
    "        p += 1\n",
    " \n",
    "    return prime\n",
    "\n",
    "M = 10 ** 7\n",
    "a = SoDv(M)\n",
    "def cntDiv(n) :\n",
    "    cnt = 0\n",
    "    for i in range(1, (int)(sqrt(n)) + 1) :\n",
    "        if (n % i == 0) :\n",
    "             \n",
    "            # If divisors are equal,\n",
    "            # count only one\n",
    "            if (n / i == i) :\n",
    "                cnt = cnt + 1\n",
    "            else : # Otherwise count both\n",
    "                cnt = cnt + 2\n",
    "                 \n",
    "    return cnt\n",
    "        \n",
    "k2 = []\n",
    "print(a[14], a[15], a[32], a[24], a[982])\n",
    "for i in range(2, M):\n",
    "    if a[i] == a[i+1]:\n",
    "        k2.append(i)\n",
    "print(len(k2))"
   ]
  },
  {
   "cell_type": "code",
   "execution_count": 59,
   "id": "7bf9a490-a5c3-4a23-816d-e6dce3f67817",
   "metadata": {},
   "outputs": [
    {
     "name": "stdout",
     "output_type": "stream",
     "text": [
      "17427258\n"
     ]
    }
   ],
   "source": [
    "#project euler187\n",
    "\n",
    "def SoE(num):\n",
    "    prime = [True for i in range(num+1)]\n",
    "    p = 2\n",
    "    while (p * p <= num):\n",
    " \n",
    "        # If prime[p] is not\n",
    "        # changed, then it is a prime\n",
    "        if (prime[p] == True):\n",
    "            \n",
    "            # Updating all multiples of p\n",
    "            for i in range(p * p, num+1, p):\n",
    "                prime[i] = False\n",
    "        p += 1\n",
    "        \n",
    "    w = {}\n",
    "    c = 1\n",
    "    for p in range(2, len(prime)):\n",
    "        if prime[p]:\n",
    "            w[p] = c\n",
    "            c += 1\n",
    "    return w\n",
    "\n",
    "M = 10 ** 8\n",
    "a = SoE(M)\n",
    "#print(a)\n",
    "\n",
    "v = 0\n",
    "for o in a:\n",
    "    k = M // o\n",
    "    while k not in a:\n",
    "        k -= 1\n",
    "    if k < o:\n",
    "        break\n",
    "    v += (a[k] - a[o] + 1)\n",
    "\n",
    "print(v)"
   ]
  },
  {
   "cell_type": "code",
   "execution_count": null,
   "id": "597bb949-1150-4355-8a86-86371c2a6603",
   "metadata": {},
   "outputs": [],
   "source": []
  }
 ],
 "metadata": {
  "kernelspec": {
   "display_name": "Python 3.10.5 64-bit",
   "language": "python",
   "name": "python3"
  },
  "language_info": {
   "codemirror_mode": {
    "name": "ipython",
    "version": 3
   },
   "file_extension": ".py",
   "mimetype": "text/x-python",
   "name": "python",
   "nbconvert_exporter": "python",
   "pygments_lexer": "ipython3",
   "version": "3.10.5"
  },
  "vscode": {
   "interpreter": {
    "hash": "a42ccb73e7d9bfdf27e036f1d2b8b681e55fc0743cc5586bc2474d4a60f4b886"
   }
  }
 },
 "nbformat": 4,
 "nbformat_minor": 5
}
