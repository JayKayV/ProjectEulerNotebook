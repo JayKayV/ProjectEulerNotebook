{
 "cells": [
  {
   "cell_type": "code",
   "execution_count": 1,
   "metadata": {},
   "outputs": [
    {
     "name": "stdout",
     "output_type": "stream",
     "text": [
      "6\n",
      "10\n",
      "12\n",
      "14\n",
      "15\n",
      "18\n",
      "20\n",
      "21\n",
      "24\n",
      "28\n",
      "35\n",
      "36\n",
      "40\n",
      "45\n",
      "48\n",
      "50\n",
      "54\n",
      "56\n",
      "63\n",
      "66\n",
      "72\n",
      "75\n",
      "78\n",
      "80\n",
      "96\n",
      "98\n",
      "100\n",
      "1260\n"
     ]
    }
   ],
   "source": [
    "#project euler357\n",
    "def s1(m):\n",
    "    return m * (m + 1) // 2\n",
    "\n",
    "def cnt_p(m):\n",
    "    a = [0 for j in range(m+2)]\n",
    "    j = 2\n",
    "    while j * j <= m:\n",
    "        if a[j] == 0:\n",
    "            for u in range(2 * j, m + 1, j):\n",
    "                a[u] += 1\n",
    "            #a[j] = 1\n",
    "        j += 1\n",
    "    return a\n",
    "\n",
    "L = 100\n",
    "h = cnt_p(L)\n",
    "s = 0\n",
    "for k in range(2, L+1):\n",
    "    if h[k] == 2:\n",
    "        print(k)\n",
    "        s += k\n",
    "print(s)"
   ]
  }
 ],
 "metadata": {
  "kernelspec": {
   "display_name": "Python 3.10.5 64-bit",
   "language": "python",
   "name": "python3"
  },
  "language_info": {
   "codemirror_mode": {
    "name": "ipython",
    "version": 3
   },
   "file_extension": ".py",
   "mimetype": "text/x-python",
   "name": "python",
   "nbconvert_exporter": "python",
   "pygments_lexer": "ipython3",
   "version": "3.10.5"
  },
  "orig_nbformat": 4,
  "vscode": {
   "interpreter": {
    "hash": "a42ccb73e7d9bfdf27e036f1d2b8b681e55fc0743cc5586bc2474d4a60f4b886"
   }
  }
 },
 "nbformat": 4,
 "nbformat_minor": 2
}
